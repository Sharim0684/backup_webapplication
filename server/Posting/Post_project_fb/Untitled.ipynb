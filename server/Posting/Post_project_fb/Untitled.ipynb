{
 "cells": [
  {
   "cell_type": "code",
   "execution_count": null,
   "id": "b6f77c51-2107-4073-b96b-e17c7f3955fc",
   "metadata": {},
   "outputs": [],
   "source": [
    "import requests"
   ]
  },
  {
   "cell_type": "code",
   "execution_count": null,
   "id": "f339f5fd-63d0-4b39-a574-aa109ff8b117",
   "metadata": {},
   "outputs": [],
   "source": [
    "url = f\"https://graph.facebook.com/v22.0/17841464618542985/media\"\n",
    "params = {\"image_url\": \"https://images.pexels.com/photos/257540/pexels-photo-257540.jpeg?cs=srgb&dl=pexels-pixabay-257540.jpg&fm=jpg\", \"caption\": \"Hello\", \"access_token\": \"EACPakZBS9OCcBO52pthzorEYGNut268iyBa7IpYqBDBfGmNMf8WXbbhpjT0DUc0Q4KPekp3Q39CdNs6ZArhUgo2pbTEGkYbqTX2w05idhkIRia591aHDPyYg4NqmE0rAVZBZBsyiHOnQUOFcI4RM9rHZCLyjL8EYprSwz4Xv9dkUar9ebhyZBSZBLKZBxUrIvMzsvn8lRZCnyySulCKcBW8diUaOjuwZDZD\"}"
   ]
  },
  {
   "cell_type": "code",
   "execution_count": null,
   "id": "02f624d9-0c6e-471f-acae-fee5316d2960",
   "metadata": {},
   "outputs": [],
   "source": [
    "response = requests.post(url, params=params)"
   ]
  },
  {
   "cell_type": "code",
   "execution_count": null,
   "id": "737b98b7-dca1-47b0-b4d8-ab50b7b6094f",
   "metadata": {},
   "outputs": [
    {
     "data": {
      "text/plain": [
       "{'id': '18391597444111829'}"
      ]
     },
     "execution_count": 13,
     "metadata": {},
     "output_type": "execute_result"
    }
   ],
   "source": [
    "response.json()\n"
   ]
  },
  {
   "cell_type": "code",
   "execution_count": null,
   "id": "23020108-2456-4992-9c62-c190a15a0a13",
   "metadata": {},
   "outputs": [],
   "source": [
    "url = f\"https://graph.facebook.com/v22.0/17841464618542985/media_publish\"\n",
    "params = {\"creation_id\": \"18391597444111829\", \"access_token\": \"EACPakZBS9OCcBO52pthzorEYGNut268iyBa7IpYqBDBfGmNMf8WXbbhpjT0DUc0Q4KPekp3Q39CdNs6ZArhUgo2pbTEGkYbqTX2w05idhkIRia591aHDPyYg4NqmE0rAVZBZBsyiHOnQUOFcI4RM9rHZCLyjL8EYprSwz4Xv9dkUar9ebhyZBSZBLKZBxUrIvMzsvn8lRZCnyySulCKcBW8diUaOjuwZDZD\"}"
   ]
  },
  {
   "cell_type": "code",
   "execution_count": null,
   "id": "83d4840e-ba2b-483e-941d-8701f565d694",
   "metadata": {},
   "outputs": [],
   "source": [
    "response = requests.post(url, params=params)"
   ]
  },
  {
   "cell_type": "code",
   "execution_count": null,
   "id": "f694b7d4-4f1e-4a93-91d7-d6c8e11aa330",
   "metadata": {},
   "outputs": [
    {
     "data": {
      "text/plain": [
       "{'id': '18005833601719883'}"
      ]
     },
     "execution_count": 16,
     "metadata": {},
     "output_type": "execute_result"
    }
   ],
   "source": [
    "response.json()"
   ]
  },
  {
   "cell_type": "code",
   "execution_count": null,
   "id": "5f7e223d-1fa2-4653-a1b4-38985118d1da",
   "metadata": {},
   "outputs": [],
   "source": [
    "access_token=\"EACPakZBS9OCcBO52pthzorEYGNut268iyBa7IpYqBDBfGmNMf8WXbbhpjT0DUc0Q4KPekp3Q39CdNs6ZArhUgo2pbTEGkYbqTX2w05idhkIRia591aHDPyYg4NqmE0rAVZBZBsyiHOnQUOFcI4RM9rHZCLyjL8EYprSwz4Xv9dkUar9ebhyZBSZBLKZBxUrIvMzsvn8lRZCnyySulCKcBW8diUaOjuwZDZD\"\n",
    "url = f\"https://graph.facebook.com/v18.0/me/accounts?access_token={access_token}\""
   ]
  },
  {
   "cell_type": "code",
   "execution_count": null,
   "id": "9f2455c2-31c6-4488-8045-b124001195b1",
   "metadata": {},
   "outputs": [],
   "source": [
    "r= requests.get(url)"
   ]
  },
  {
   "cell_type": "code",
   "execution_count": null,
   "id": "360cf748-f03d-4ede-9824-aa76e8a690de",
   "metadata": {},
   "outputs": [
    {
     "data": {
      "text/plain": [
       "{'data': [{'access_token': 'EACPakZBS9OCcBO3RssSRDCfuwqAVRrDze7Bie7fLHvCP3JYmOxcTYZB2KIsb1cxGN4hyXHwRlhEy4ZAizqi7jWS2diWVLkgM6ZA3OMzdtbkKkmZBzvEltrQOYJioKoLWxIuZBmhItOCEclr4fkcOWoquSRMEwUG5UmukOfehncc0kCASOn1WgD6UWQvz3S7pBSQZBJVmoa8yMzgDo9eR2U9fbUhwfJ0ZBagI',\n",
       "   'category': 'Information technology company',\n",
       "   'category_list': [{'id': '1130035050388269',\n",
       "     'name': 'Information technology company'}],\n",
       "   'name': 'Web-application',\n",
       "   'id': '632392123280191',\n",
       "   'tasks': ['ADVERTISE',\n",
       "    'ANALYZE',\n",
       "    'CREATE_CONTENT',\n",
       "    'MESSAGING',\n",
       "    'MODERATE',\n",
       "    'MANAGE']}],\n",
       " 'paging': {'cursors': {'before': 'QVFIUkIzSkZAHZAlkwUXFlWW0zMkd1eTNjMDlYMWN1V2hIRm9Ka1g5UzcxdTc5QWM2TDN1dU4xVVhsbm1aUXZAQVWd2M1E4U1FpcnUyeEpHaHlvZAFdpNkZAqWnFn',\n",
       "   'after': 'QVFIUkIzSkZAHZAlkwUXFlWW0zMkd1eTNjMDlYMWN1V2hIRm9Ka1g5UzcxdTc5QWM2TDN1dU4xVVhsbm1aUXZAQVWd2M1E4U1FpcnUyeEpHaHlvZAFdpNkZAqWnFn'}}}"
      ]
     },
     "execution_count": 4,
     "metadata": {},
     "output_type": "execute_result"
    }
   ],
   "source": [
    "r.json()"
   ]
  },
  {
   "cell_type": "code",
   "execution_count": null,
   "id": "3457ec9a-9bce-4abe-9930-3444ae18f43a",
   "metadata": {},
   "outputs": [],
   "source": [
    "import requests"
   ]
  },
  {
   "cell_type": "code",
   "execution_count": null,
   "id": "c22fdc2d",
   "metadata": {},
   "outputs": [],
   "source": [
    "import os  \n"
   ]
  },
  {
   "cell_type": "code",
   "execution_count": null,
   "id": "34819bc6",
   "metadata": {},
   "outputs": [],
   "source": [
    "from dotenv import load_dotenv\n"
   ]
  },
  {
   "cell_type": "code",
   "execution_count": null,
   "id": "55c412d8",
   "metadata": {},
   "outputs": [],
   "source": [
    "load_dotenv()  # This loads all variables from your .env file"
   ]
  },
  {
   "cell_type": "code",
   "execution_count": null,
   "id": "2cd48eb2",
   "metadata": {},
   "outputs": [],
   "source": [
    "def post_to_linkedin(message):\n",
    "    \"\"\"\n",
    "    Post a message to LinkedIn using LinkedIn API\n",
    "    \"\"\""
   ]
  },
  {
   "cell_type": "code",
   "execution_count": null,
   "id": "ef5d7e3e",
   "metadata": {},
   "outputs": [],
   "source": [
    "    access_token = os.getenv(\"LINKEDIN_ACCESS_TOKEN\")\n",
    "    user_id = os.getenv(\"LINKEDIN_USER_ID\")"
   ]
  },
  {
   "cell_type": "code",
   "execution_count": null,
   "id": "dafed59a",
   "metadata": {},
   "outputs": [],
   "source": [
    "    headers = {\n",
    "        \"Authorization\": f\"Bearer {access_token}\",\n",
    "        \"Content-Type\": \"application/json\",\n",
    "    }"
   ]
  },
  {
   "cell_type": "code",
   "execution_count": null,
   "id": "e42a7764",
   "metadata": {},
   "outputs": [],
   "source": [
    "    url = \"https://api.linkedin.com/v2/ugcPosts\""
   ]
  },
  {
   "cell_type": "code",
   "execution_count": null,
   "id": "aaf8bd0b",
   "metadata": {},
   "outputs": [],
   "source": [
    "    post_data = {\n",
    "        \"author\": f\"urn:li:person:{user_id}\",\n",
    "        \"lifecycleState\": \"PUBLISHED\",\n",
    "        \"specificContent\": {\n",
    "            \"com.linkedin.ugc.ShareContent\": {\n",
    "                \"shareCommentary\": {\n",
    "                    \"text\": message\n",
    "                },\n",
    "                \"shareMediaCategory\": \"NONE\"\n",
    "            }\n",
    "        },\n",
    "        \"visibility\": {\n",
    "            \"com.linkedin.ugc.MemberNetworkVisibility\": \"PUBLIC\"\n",
    "        }\n",
    "    }"
   ]
  },
  {
   "cell_type": "code",
   "execution_count": null,
   "id": "051a72d8",
   "metadata": {},
   "outputs": [],
   "source": [
    "    response = requests.post(url, headers=headers, json=post_data)\n",
    "    return response.json()"
   ]
  },
  {
   "cell_type": "code",
   "execution_count": null,
   "id": "419bd839",
   "metadata": {},
   "outputs": [],
   "source": [
    "# Example usage\n",
    "message = \"Hello, this is a test post from Python!\"\n",
    "result = post_to_linkedin(message)\n",
    "print(result)"
   ]
  },
  {
   "cell_type": "code",
   "execution_count": null,
   "id": "04c6390f",
   "metadata": {},
   "outputs": [],
   "source": []
  }
 ],
 "metadata": {
  "kernelspec": {
   "display_name": "Python 3 (ipykernel)",
   "language": "python",
   "name": "python3"
  },
  "language_info": {
   "codemirror_mode": {
    "name": "ipython",
    "version": 3
   },
   "file_extension": ".py",
   "mimetype": "text/x-python",
   "name": "python",
   "nbconvert_exporter": "python",
   "pygments_lexer": "ipython3",
   "version": "3.11.9"
  }
 },
 "nbformat": 4,
 "nbformat_minor": 5
}
